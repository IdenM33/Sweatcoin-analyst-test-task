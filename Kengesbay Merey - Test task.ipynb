{
 "cells": [
  {
   "cell_type": "markdown",
   "id": "3c623255",
   "metadata": {},
   "source": [
    "# 1. Анилиз данных"
   ]
  },
  {
   "cell_type": "code",
   "execution_count": 2,
   "id": "77958d0a",
   "metadata": {},
   "outputs": [],
   "source": [
    "# Импорт библиотек\n",
    "\n",
    "import pandas as pd\n",
    "import numpy as np\n",
    "from matplotlib import pyplot as plt\n",
    "import scipy.stats"
   ]
  },
  {
   "cell_type": "code",
   "execution_count": 3,
   "id": "a38812c5",
   "metadata": {
    "scrolled": true
   },
   "outputs": [
    {
     "data": {
      "text/html": [
       "<div>\n",
       "<style scoped>\n",
       "    .dataframe tbody tr th:only-of-type {\n",
       "        vertical-align: middle;\n",
       "    }\n",
       "\n",
       "    .dataframe tbody tr th {\n",
       "        vertical-align: top;\n",
       "    }\n",
       "\n",
       "    .dataframe thead th {\n",
       "        text-align: right;\n",
       "    }\n",
       "</style>\n",
       "<table border=\"1\" class=\"dataframe\">\n",
       "  <thead>\n",
       "    <tr style=\"text-align: right;\">\n",
       "      <th></th>\n",
       "      <th>user_id</th>\n",
       "      <th>platform</th>\n",
       "      <th>reg_date</th>\n",
       "      <th>steps_date</th>\n",
       "      <th>steps</th>\n",
       "    </tr>\n",
       "  </thead>\n",
       "  <tbody>\n",
       "    <tr>\n",
       "      <th>0</th>\n",
       "      <td>41785284</td>\n",
       "      <td>IOS</td>\n",
       "      <td>2021-04-21</td>\n",
       "      <td>2021-04-13</td>\n",
       "      <td>458</td>\n",
       "    </tr>\n",
       "    <tr>\n",
       "      <th>1</th>\n",
       "      <td>41792465</td>\n",
       "      <td>IOS</td>\n",
       "      <td>2021-04-21</td>\n",
       "      <td>2021-04-13</td>\n",
       "      <td>5750</td>\n",
       "    </tr>\n",
       "    <tr>\n",
       "      <th>2</th>\n",
       "      <td>41494466</td>\n",
       "      <td>IOS</td>\n",
       "      <td>2021-03-28</td>\n",
       "      <td>2021-04-01</td>\n",
       "      <td>5635</td>\n",
       "    </tr>\n",
       "    <tr>\n",
       "      <th>3</th>\n",
       "      <td>41583452</td>\n",
       "      <td>IOS</td>\n",
       "      <td>2021-04-02</td>\n",
       "      <td>2021-04-01</td>\n",
       "      <td>1840</td>\n",
       "    </tr>\n",
       "    <tr>\n",
       "      <th>4</th>\n",
       "      <td>41637532</td>\n",
       "      <td>IOS</td>\n",
       "      <td>2021-04-07</td>\n",
       "      <td>2021-04-01</td>\n",
       "      <td>3127</td>\n",
       "    </tr>\n",
       "    <tr>\n",
       "      <th>5</th>\n",
       "      <td>41578997</td>\n",
       "      <td>ANDROID</td>\n",
       "      <td>2021-04-01</td>\n",
       "      <td>2021-04-01</td>\n",
       "      <td>1603</td>\n",
       "    </tr>\n",
       "    <tr>\n",
       "      <th>6</th>\n",
       "      <td>41574472</td>\n",
       "      <td>IOS</td>\n",
       "      <td>2021-04-01</td>\n",
       "      <td>2021-04-01</td>\n",
       "      <td>10697</td>\n",
       "    </tr>\n",
       "    <tr>\n",
       "      <th>7</th>\n",
       "      <td>41719379</td>\n",
       "      <td>IOS</td>\n",
       "      <td>2021-04-14</td>\n",
       "      <td>2021-04-01</td>\n",
       "      <td>2509</td>\n",
       "    </tr>\n",
       "    <tr>\n",
       "      <th>8</th>\n",
       "      <td>41455690</td>\n",
       "      <td>IOS</td>\n",
       "      <td>2021-03-26</td>\n",
       "      <td>2021-04-01</td>\n",
       "      <td>3309</td>\n",
       "    </tr>\n",
       "    <tr>\n",
       "      <th>9</th>\n",
       "      <td>41600031</td>\n",
       "      <td>IOS</td>\n",
       "      <td>2021-04-03</td>\n",
       "      <td>2021-03-31</td>\n",
       "      <td>114</td>\n",
       "    </tr>\n",
       "    <tr>\n",
       "      <th>10</th>\n",
       "      <td>41623692</td>\n",
       "      <td>IOS</td>\n",
       "      <td>2021-04-05</td>\n",
       "      <td>2021-03-31</td>\n",
       "      <td>3436</td>\n",
       "    </tr>\n",
       "    <tr>\n",
       "      <th>11</th>\n",
       "      <td>41630973</td>\n",
       "      <td>IOS</td>\n",
       "      <td>2021-04-06</td>\n",
       "      <td>2021-03-31</td>\n",
       "      <td>9487</td>\n",
       "    </tr>\n",
       "    <tr>\n",
       "      <th>12</th>\n",
       "      <td>41627026</td>\n",
       "      <td>IOS</td>\n",
       "      <td>2021-04-06</td>\n",
       "      <td>2021-03-31</td>\n",
       "      <td>4420</td>\n",
       "    </tr>\n",
       "    <tr>\n",
       "      <th>13</th>\n",
       "      <td>41641636</td>\n",
       "      <td>IOS</td>\n",
       "      <td>2021-04-07</td>\n",
       "      <td>2021-03-31</td>\n",
       "      <td>11668</td>\n",
       "    </tr>\n",
       "    <tr>\n",
       "      <th>14</th>\n",
       "      <td>41788606</td>\n",
       "      <td>IOS</td>\n",
       "      <td>2021-04-21</td>\n",
       "      <td>2021-04-11</td>\n",
       "      <td>54</td>\n",
       "    </tr>\n",
       "    <tr>\n",
       "      <th>15</th>\n",
       "      <td>41325030</td>\n",
       "      <td>IOS</td>\n",
       "      <td>2021-03-19</td>\n",
       "      <td>2021-03-08</td>\n",
       "      <td>5700</td>\n",
       "    </tr>\n",
       "    <tr>\n",
       "      <th>16</th>\n",
       "      <td>41162822</td>\n",
       "      <td>ANDROID</td>\n",
       "      <td>2021-03-01</td>\n",
       "      <td>2021-02-27</td>\n",
       "      <td>0</td>\n",
       "    </tr>\n",
       "    <tr>\n",
       "      <th>17</th>\n",
       "      <td>41239097</td>\n",
       "      <td>ANDROID</td>\n",
       "      <td>2021-03-12</td>\n",
       "      <td>2021-02-27</td>\n",
       "      <td>0</td>\n",
       "    </tr>\n",
       "    <tr>\n",
       "      <th>18</th>\n",
       "      <td>41233528</td>\n",
       "      <td>ANDROID</td>\n",
       "      <td>2021-03-11</td>\n",
       "      <td>2021-02-27</td>\n",
       "      <td>7700</td>\n",
       "    </tr>\n",
       "    <tr>\n",
       "      <th>19</th>\n",
       "      <td>41202545</td>\n",
       "      <td>IOS</td>\n",
       "      <td>2021-03-07</td>\n",
       "      <td>2021-02-27</td>\n",
       "      <td>610</td>\n",
       "    </tr>\n",
       "  </tbody>\n",
       "</table>\n",
       "</div>"
      ],
      "text/plain": [
       "     user_id platform    reg_date  steps_date  steps\n",
       "0   41785284      IOS  2021-04-21  2021-04-13    458\n",
       "1   41792465      IOS  2021-04-21  2021-04-13   5750\n",
       "2   41494466      IOS  2021-03-28  2021-04-01   5635\n",
       "3   41583452      IOS  2021-04-02  2021-04-01   1840\n",
       "4   41637532      IOS  2021-04-07  2021-04-01   3127\n",
       "5   41578997  ANDROID  2021-04-01  2021-04-01   1603\n",
       "6   41574472      IOS  2021-04-01  2021-04-01  10697\n",
       "7   41719379      IOS  2021-04-14  2021-04-01   2509\n",
       "8   41455690      IOS  2021-03-26  2021-04-01   3309\n",
       "9   41600031      IOS  2021-04-03  2021-03-31    114\n",
       "10  41623692      IOS  2021-04-05  2021-03-31   3436\n",
       "11  41630973      IOS  2021-04-06  2021-03-31   9487\n",
       "12  41627026      IOS  2021-04-06  2021-03-31   4420\n",
       "13  41641636      IOS  2021-04-07  2021-03-31  11668\n",
       "14  41788606      IOS  2021-04-21  2021-04-11     54\n",
       "15  41325030      IOS  2021-03-19  2021-03-08   5700\n",
       "16  41162822  ANDROID  2021-03-01  2021-02-27      0\n",
       "17  41239097  ANDROID  2021-03-12  2021-02-27      0\n",
       "18  41233528  ANDROID  2021-03-11  2021-02-27   7700\n",
       "19  41202545      IOS  2021-03-07  2021-02-27    610"
      ]
     },
     "execution_count": 3,
     "metadata": {},
     "output_type": "execute_result"
    }
   ],
   "source": [
    "# Чтение данных из файла\n",
    "\n",
    "df = pd.read_csv('test_task_data.csv', index_col=0) \n",
    "df.head(20)"
   ]
  },
  {
   "cell_type": "code",
   "execution_count": 4,
   "id": "b401deee",
   "metadata": {},
   "outputs": [
    {
     "data": {
      "text/plain": [
       "3531"
      ]
     },
     "execution_count": 4,
     "metadata": {},
     "output_type": "execute_result"
    }
   ],
   "source": [
    "# Кол-во уникальных юзеров\n",
    "\n",
    "df['user_id'].nunique()"
   ]
  },
  {
   "cell_type": "code",
   "execution_count": 5,
   "id": "14b8729d",
   "metadata": {},
   "outputs": [
    {
     "data": {
      "text/html": [
       "<div>\n",
       "<style scoped>\n",
       "    .dataframe tbody tr th:only-of-type {\n",
       "        vertical-align: middle;\n",
       "    }\n",
       "\n",
       "    .dataframe tbody tr th {\n",
       "        vertical-align: top;\n",
       "    }\n",
       "\n",
       "    .dataframe thead th {\n",
       "        text-align: right;\n",
       "    }\n",
       "</style>\n",
       "<table border=\"1\" class=\"dataframe\">\n",
       "  <thead>\n",
       "    <tr style=\"text-align: right;\">\n",
       "      <th></th>\n",
       "      <th>user_id</th>\n",
       "      <th>platform</th>\n",
       "      <th>reg_date</th>\n",
       "      <th>steps_date</th>\n",
       "      <th>steps</th>\n",
       "    </tr>\n",
       "  </thead>\n",
       "  <tbody>\n",
       "    <tr>\n",
       "      <th>81544</th>\n",
       "      <td>40888496</td>\n",
       "      <td>IOS</td>\n",
       "      <td>2021-01-29</td>\n",
       "      <td>2021-02-07</td>\n",
       "      <td>350</td>\n",
       "    </tr>\n",
       "    <tr>\n",
       "      <th>81545</th>\n",
       "      <td>41010128</td>\n",
       "      <td>ANDROID</td>\n",
       "      <td>2021-02-11</td>\n",
       "      <td>2021-02-07</td>\n",
       "      <td>0</td>\n",
       "    </tr>\n",
       "    <tr>\n",
       "      <th>81546</th>\n",
       "      <td>40741168</td>\n",
       "      <td>IOS</td>\n",
       "      <td>2021-01-15</td>\n",
       "      <td>2021-01-02</td>\n",
       "      <td>10292</td>\n",
       "    </tr>\n",
       "    <tr>\n",
       "      <th>81547</th>\n",
       "      <td>40736310</td>\n",
       "      <td>ANDROID</td>\n",
       "      <td>2021-01-15</td>\n",
       "      <td>2021-01-02</td>\n",
       "      <td>0</td>\n",
       "    </tr>\n",
       "    <tr>\n",
       "      <th>81548</th>\n",
       "      <td>40748682</td>\n",
       "      <td>ANDROID</td>\n",
       "      <td>2021-01-16</td>\n",
       "      <td>2021-01-02</td>\n",
       "      <td>0</td>\n",
       "    </tr>\n",
       "  </tbody>\n",
       "</table>\n",
       "</div>"
      ],
      "text/plain": [
       "        user_id platform    reg_date  steps_date  steps\n",
       "81544  40888496      IOS  2021-01-29  2021-02-07    350\n",
       "81545  41010128  ANDROID  2021-02-11  2021-02-07      0\n",
       "81546  40741168      IOS  2021-01-15  2021-01-02  10292\n",
       "81547  40736310  ANDROID  2021-01-15  2021-01-02      0\n",
       "81548  40748682  ANDROID  2021-01-16  2021-01-02      0"
      ]
     },
     "execution_count": 5,
     "metadata": {},
     "output_type": "execute_result"
    }
   ],
   "source": [
    "df.tail()"
   ]
  },
  {
   "cell_type": "code",
   "execution_count": 6,
   "id": "dba02930",
   "metadata": {
    "scrolled": true
   },
   "outputs": [
    {
     "data": {
      "text/plain": [
       "(81549, 5)"
      ]
     },
     "execution_count": 6,
     "metadata": {},
     "output_type": "execute_result"
    }
   ],
   "source": [
    "# В файле 81549 строк и 5 столбцов\n",
    "\n",
    "df.shape"
   ]
  },
  {
   "cell_type": "code",
   "execution_count": 7,
   "id": "d0c9e59f",
   "metadata": {},
   "outputs": [
    {
     "data": {
      "text/html": [
       "<div>\n",
       "<style scoped>\n",
       "    .dataframe tbody tr th:only-of-type {\n",
       "        vertical-align: middle;\n",
       "    }\n",
       "\n",
       "    .dataframe tbody tr th {\n",
       "        vertical-align: top;\n",
       "    }\n",
       "\n",
       "    .dataframe thead th {\n",
       "        text-align: right;\n",
       "    }\n",
       "</style>\n",
       "<table border=\"1\" class=\"dataframe\">\n",
       "  <thead>\n",
       "    <tr style=\"text-align: right;\">\n",
       "      <th></th>\n",
       "      <th>user_id</th>\n",
       "      <th>steps</th>\n",
       "    </tr>\n",
       "  </thead>\n",
       "  <tbody>\n",
       "    <tr>\n",
       "      <th>count</th>\n",
       "      <td>8.154900e+04</td>\n",
       "      <td>81549.000000</td>\n",
       "    </tr>\n",
       "    <tr>\n",
       "      <th>mean</th>\n",
       "      <td>4.120154e+07</td>\n",
       "      <td>3933.511607</td>\n",
       "    </tr>\n",
       "    <tr>\n",
       "      <th>std</th>\n",
       "      <td>9.254097e+05</td>\n",
       "      <td>4826.587260</td>\n",
       "    </tr>\n",
       "    <tr>\n",
       "      <th>min</th>\n",
       "      <td>1.666115e+07</td>\n",
       "      <td>0.000000</td>\n",
       "    </tr>\n",
       "    <tr>\n",
       "      <th>25%</th>\n",
       "      <td>4.098995e+07</td>\n",
       "      <td>104.000000</td>\n",
       "    </tr>\n",
       "    <tr>\n",
       "      <th>50%</th>\n",
       "      <td>4.123912e+07</td>\n",
       "      <td>2187.000000</td>\n",
       "    </tr>\n",
       "    <tr>\n",
       "      <th>75%</th>\n",
       "      <td>4.148435e+07</td>\n",
       "      <td>6026.000000</td>\n",
       "    </tr>\n",
       "    <tr>\n",
       "      <th>max</th>\n",
       "      <td>4.180368e+07</td>\n",
       "      <td>60043.000000</td>\n",
       "    </tr>\n",
       "  </tbody>\n",
       "</table>\n",
       "</div>"
      ],
      "text/plain": [
       "            user_id         steps\n",
       "count  8.154900e+04  81549.000000\n",
       "mean   4.120154e+07   3933.511607\n",
       "std    9.254097e+05   4826.587260\n",
       "min    1.666115e+07      0.000000\n",
       "25%    4.098995e+07    104.000000\n",
       "50%    4.123912e+07   2187.000000\n",
       "75%    4.148435e+07   6026.000000\n",
       "max    4.180368e+07  60043.000000"
      ]
     },
     "execution_count": 7,
     "metadata": {},
     "output_type": "execute_result"
    }
   ],
   "source": [
    "df.describe()"
   ]
  },
  {
   "cell_type": "code",
   "execution_count": 8,
   "id": "e3f75ee8",
   "metadata": {},
   "outputs": [],
   "source": [
    "# Имеются записи с 0 шагами\n",
    "# Удалим такие записи (таких 1% от уников или 23% от всех записей)\n",
    "\n",
    "df = df[df['steps']>0]"
   ]
  },
  {
   "cell_type": "code",
   "execution_count": 9,
   "id": "1bf215a0",
   "metadata": {},
   "outputs": [
    {
     "name": "stdout",
     "output_type": "stream",
     "text": [
      "<class 'pandas.core.frame.DataFrame'>\n",
      "Int64Index: 62754 entries, 0 to 81546\n",
      "Data columns (total 5 columns):\n",
      " #   Column      Non-Null Count  Dtype \n",
      "---  ------      --------------  ----- \n",
      " 0   user_id     62754 non-null  int64 \n",
      " 1   platform    62684 non-null  object\n",
      " 2   reg_date    62754 non-null  object\n",
      " 3   steps_date  62754 non-null  object\n",
      " 4   steps       62754 non-null  int64 \n",
      "dtypes: int64(2), object(3)\n",
      "memory usage: 2.9+ MB\n"
     ]
    }
   ],
   "source": [
    "df.info()"
   ]
  },
  {
   "cell_type": "code",
   "execution_count": 10,
   "id": "ff9b90a0",
   "metadata": {},
   "outputs": [
    {
     "data": {
      "text/plain": [
       "3482"
      ]
     },
     "execution_count": 10,
     "metadata": {},
     "output_type": "execute_result"
    }
   ],
   "source": [
    "df['user_id'].nunique()"
   ]
  },
  {
   "cell_type": "code",
   "execution_count": 11,
   "id": "6ff45bbb",
   "metadata": {},
   "outputs": [
    {
     "data": {
      "text/html": [
       "<div>\n",
       "<style scoped>\n",
       "    .dataframe tbody tr th:only-of-type {\n",
       "        vertical-align: middle;\n",
       "    }\n",
       "\n",
       "    .dataframe tbody tr th {\n",
       "        vertical-align: top;\n",
       "    }\n",
       "\n",
       "    .dataframe thead th {\n",
       "        text-align: right;\n",
       "    }\n",
       "</style>\n",
       "<table border=\"1\" class=\"dataframe\">\n",
       "  <thead>\n",
       "    <tr style=\"text-align: right;\">\n",
       "      <th></th>\n",
       "      <th>user_id</th>\n",
       "      <th>platform</th>\n",
       "      <th>reg_date</th>\n",
       "      <th>steps_date</th>\n",
       "      <th>steps</th>\n",
       "    </tr>\n",
       "  </thead>\n",
       "  <tbody>\n",
       "  </tbody>\n",
       "</table>\n",
       "</div>"
      ],
      "text/plain": [
       "Empty DataFrame\n",
       "Columns: [user_id, platform, reg_date, steps_date, steps]\n",
       "Index: []"
      ]
     },
     "execution_count": 11,
     "metadata": {},
     "output_type": "execute_result"
    }
   ],
   "source": [
    "# дубликатов не имеется\n",
    "\n",
    "duplicate = df[df.duplicated()] \n",
    "duplicate"
   ]
  },
  {
   "cell_type": "code",
   "execution_count": 12,
   "id": "ed3f45fc",
   "metadata": {
    "scrolled": true
   },
   "outputs": [
    {
     "data": {
      "text/html": [
       "<div>\n",
       "<style scoped>\n",
       "    .dataframe tbody tr th:only-of-type {\n",
       "        vertical-align: middle;\n",
       "    }\n",
       "\n",
       "    .dataframe tbody tr th {\n",
       "        vertical-align: top;\n",
       "    }\n",
       "\n",
       "    .dataframe thead th {\n",
       "        text-align: right;\n",
       "    }\n",
       "</style>\n",
       "<table border=\"1\" class=\"dataframe\">\n",
       "  <thead>\n",
       "    <tr style=\"text-align: right;\">\n",
       "      <th></th>\n",
       "      <th>user_id</th>\n",
       "      <th>platform</th>\n",
       "      <th>reg_date</th>\n",
       "      <th>steps_date</th>\n",
       "      <th>steps</th>\n",
       "      <th>period</th>\n",
       "    </tr>\n",
       "  </thead>\n",
       "  <tbody>\n",
       "    <tr>\n",
       "      <th>26899</th>\n",
       "      <td>16661153</td>\n",
       "      <td>IOS</td>\n",
       "      <td>2021-03-25</td>\n",
       "      <td>2021-03-11</td>\n",
       "      <td>4732</td>\n",
       "      <td>before</td>\n",
       "    </tr>\n",
       "    <tr>\n",
       "      <th>30417</th>\n",
       "      <td>16661153</td>\n",
       "      <td>IOS</td>\n",
       "      <td>2021-03-25</td>\n",
       "      <td>2021-03-12</td>\n",
       "      <td>12022</td>\n",
       "      <td>before</td>\n",
       "    </tr>\n",
       "    <tr>\n",
       "      <th>4660</th>\n",
       "      <td>16661153</td>\n",
       "      <td>IOS</td>\n",
       "      <td>2021-03-25</td>\n",
       "      <td>2021-03-13</td>\n",
       "      <td>3798</td>\n",
       "      <td>before</td>\n",
       "    </tr>\n",
       "    <tr>\n",
       "      <th>23346</th>\n",
       "      <td>16661153</td>\n",
       "      <td>IOS</td>\n",
       "      <td>2021-03-25</td>\n",
       "      <td>2021-03-14</td>\n",
       "      <td>2745</td>\n",
       "      <td>before</td>\n",
       "    </tr>\n",
       "    <tr>\n",
       "      <th>27835</th>\n",
       "      <td>16661153</td>\n",
       "      <td>IOS</td>\n",
       "      <td>2021-03-25</td>\n",
       "      <td>2021-03-15</td>\n",
       "      <td>4536</td>\n",
       "      <td>before</td>\n",
       "    </tr>\n",
       "    <tr>\n",
       "      <th>16499</th>\n",
       "      <td>16661153</td>\n",
       "      <td>IOS</td>\n",
       "      <td>2021-03-25</td>\n",
       "      <td>2021-03-16</td>\n",
       "      <td>5039</td>\n",
       "      <td>before</td>\n",
       "    </tr>\n",
       "    <tr>\n",
       "      <th>24057</th>\n",
       "      <td>16661153</td>\n",
       "      <td>IOS</td>\n",
       "      <td>2021-03-25</td>\n",
       "      <td>2021-03-17</td>\n",
       "      <td>6144</td>\n",
       "      <td>before</td>\n",
       "    </tr>\n",
       "    <tr>\n",
       "      <th>29384</th>\n",
       "      <td>16661153</td>\n",
       "      <td>IOS</td>\n",
       "      <td>2021-03-25</td>\n",
       "      <td>2021-03-18</td>\n",
       "      <td>3318</td>\n",
       "      <td>before</td>\n",
       "    </tr>\n",
       "    <tr>\n",
       "      <th>8228</th>\n",
       "      <td>16661153</td>\n",
       "      <td>IOS</td>\n",
       "      <td>2021-03-25</td>\n",
       "      <td>2021-03-19</td>\n",
       "      <td>8218</td>\n",
       "      <td>before</td>\n",
       "    </tr>\n",
       "    <tr>\n",
       "      <th>52457</th>\n",
       "      <td>16661153</td>\n",
       "      <td>IOS</td>\n",
       "      <td>2021-03-25</td>\n",
       "      <td>2021-03-20</td>\n",
       "      <td>1724</td>\n",
       "      <td>before</td>\n",
       "    </tr>\n",
       "    <tr>\n",
       "      <th>11645</th>\n",
       "      <td>16661153</td>\n",
       "      <td>IOS</td>\n",
       "      <td>2021-03-25</td>\n",
       "      <td>2021-03-21</td>\n",
       "      <td>4740</td>\n",
       "      <td>before</td>\n",
       "    </tr>\n",
       "    <tr>\n",
       "      <th>57141</th>\n",
       "      <td>16661153</td>\n",
       "      <td>IOS</td>\n",
       "      <td>2021-03-25</td>\n",
       "      <td>2021-03-22</td>\n",
       "      <td>1783</td>\n",
       "      <td>before</td>\n",
       "    </tr>\n",
       "    <tr>\n",
       "      <th>41735</th>\n",
       "      <td>16661153</td>\n",
       "      <td>IOS</td>\n",
       "      <td>2021-03-25</td>\n",
       "      <td>2021-03-23</td>\n",
       "      <td>7735</td>\n",
       "      <td>before</td>\n",
       "    </tr>\n",
       "    <tr>\n",
       "      <th>23986</th>\n",
       "      <td>16661153</td>\n",
       "      <td>IOS</td>\n",
       "      <td>2021-03-25</td>\n",
       "      <td>2021-03-24</td>\n",
       "      <td>7585</td>\n",
       "      <td>before</td>\n",
       "    </tr>\n",
       "    <tr>\n",
       "      <th>42199</th>\n",
       "      <td>19161801</td>\n",
       "      <td>IOS</td>\n",
       "      <td>2021-02-26</td>\n",
       "      <td>2021-02-12</td>\n",
       "      <td>10790</td>\n",
       "      <td>before</td>\n",
       "    </tr>\n",
       "    <tr>\n",
       "      <th>22792</th>\n",
       "      <td>19161801</td>\n",
       "      <td>IOS</td>\n",
       "      <td>2021-02-26</td>\n",
       "      <td>2021-02-13</td>\n",
       "      <td>3513</td>\n",
       "      <td>before</td>\n",
       "    </tr>\n",
       "    <tr>\n",
       "      <th>21983</th>\n",
       "      <td>19161801</td>\n",
       "      <td>IOS</td>\n",
       "      <td>2021-02-26</td>\n",
       "      <td>2021-02-14</td>\n",
       "      <td>1005</td>\n",
       "      <td>before</td>\n",
       "    </tr>\n",
       "    <tr>\n",
       "      <th>2361</th>\n",
       "      <td>19161801</td>\n",
       "      <td>IOS</td>\n",
       "      <td>2021-02-26</td>\n",
       "      <td>2021-02-15</td>\n",
       "      <td>2369</td>\n",
       "      <td>before</td>\n",
       "    </tr>\n",
       "    <tr>\n",
       "      <th>46049</th>\n",
       "      <td>19161801</td>\n",
       "      <td>IOS</td>\n",
       "      <td>2021-02-26</td>\n",
       "      <td>2021-02-16</td>\n",
       "      <td>1834</td>\n",
       "      <td>before</td>\n",
       "    </tr>\n",
       "    <tr>\n",
       "      <th>27665</th>\n",
       "      <td>19161801</td>\n",
       "      <td>IOS</td>\n",
       "      <td>2021-02-26</td>\n",
       "      <td>2021-02-17</td>\n",
       "      <td>2150</td>\n",
       "      <td>before</td>\n",
       "    </tr>\n",
       "    <tr>\n",
       "      <th>5824</th>\n",
       "      <td>19161801</td>\n",
       "      <td>IOS</td>\n",
       "      <td>2021-02-26</td>\n",
       "      <td>2021-02-18</td>\n",
       "      <td>2378</td>\n",
       "      <td>before</td>\n",
       "    </tr>\n",
       "    <tr>\n",
       "      <th>75358</th>\n",
       "      <td>19161801</td>\n",
       "      <td>IOS</td>\n",
       "      <td>2021-02-26</td>\n",
       "      <td>2021-02-19</td>\n",
       "      <td>2942</td>\n",
       "      <td>before</td>\n",
       "    </tr>\n",
       "    <tr>\n",
       "      <th>66980</th>\n",
       "      <td>19161801</td>\n",
       "      <td>IOS</td>\n",
       "      <td>2021-02-26</td>\n",
       "      <td>2021-02-20</td>\n",
       "      <td>2151</td>\n",
       "      <td>before</td>\n",
       "    </tr>\n",
       "    <tr>\n",
       "      <th>64380</th>\n",
       "      <td>19161801</td>\n",
       "      <td>IOS</td>\n",
       "      <td>2021-02-26</td>\n",
       "      <td>2021-02-21</td>\n",
       "      <td>1343</td>\n",
       "      <td>before</td>\n",
       "    </tr>\n",
       "    <tr>\n",
       "      <th>38847</th>\n",
       "      <td>19161801</td>\n",
       "      <td>IOS</td>\n",
       "      <td>2021-02-26</td>\n",
       "      <td>2021-02-22</td>\n",
       "      <td>2393</td>\n",
       "      <td>before</td>\n",
       "    </tr>\n",
       "    <tr>\n",
       "      <th>62595</th>\n",
       "      <td>19161801</td>\n",
       "      <td>IOS</td>\n",
       "      <td>2021-02-26</td>\n",
       "      <td>2021-02-23</td>\n",
       "      <td>2727</td>\n",
       "      <td>before</td>\n",
       "    </tr>\n",
       "    <tr>\n",
       "      <th>24383</th>\n",
       "      <td>19161801</td>\n",
       "      <td>IOS</td>\n",
       "      <td>2021-02-26</td>\n",
       "      <td>2021-02-24</td>\n",
       "      <td>5718</td>\n",
       "      <td>before</td>\n",
       "    </tr>\n",
       "    <tr>\n",
       "      <th>66979</th>\n",
       "      <td>19161801</td>\n",
       "      <td>IOS</td>\n",
       "      <td>2021-02-26</td>\n",
       "      <td>2021-02-25</td>\n",
       "      <td>1381</td>\n",
       "      <td>before</td>\n",
       "    </tr>\n",
       "    <tr>\n",
       "      <th>11512</th>\n",
       "      <td>19161801</td>\n",
       "      <td>IOS</td>\n",
       "      <td>2021-02-26</td>\n",
       "      <td>2021-02-26</td>\n",
       "      <td>6939</td>\n",
       "      <td>after</td>\n",
       "    </tr>\n",
       "    <tr>\n",
       "      <th>53104</th>\n",
       "      <td>19161801</td>\n",
       "      <td>IOS</td>\n",
       "      <td>2021-02-26</td>\n",
       "      <td>2021-02-27</td>\n",
       "      <td>2807</td>\n",
       "      <td>after</td>\n",
       "    </tr>\n",
       "    <tr>\n",
       "      <th>80165</th>\n",
       "      <td>19161801</td>\n",
       "      <td>IOS</td>\n",
       "      <td>2021-02-26</td>\n",
       "      <td>2021-02-28</td>\n",
       "      <td>12356</td>\n",
       "      <td>after</td>\n",
       "    </tr>\n",
       "    <tr>\n",
       "      <th>35352</th>\n",
       "      <td>19161801</td>\n",
       "      <td>IOS</td>\n",
       "      <td>2021-02-26</td>\n",
       "      <td>2021-03-01</td>\n",
       "      <td>1854</td>\n",
       "      <td>after</td>\n",
       "    </tr>\n",
       "    <tr>\n",
       "      <th>37047</th>\n",
       "      <td>19161801</td>\n",
       "      <td>IOS</td>\n",
       "      <td>2021-02-26</td>\n",
       "      <td>2021-03-02</td>\n",
       "      <td>9508</td>\n",
       "      <td>after</td>\n",
       "    </tr>\n",
       "    <tr>\n",
       "      <th>4091</th>\n",
       "      <td>19161801</td>\n",
       "      <td>IOS</td>\n",
       "      <td>2021-02-26</td>\n",
       "      <td>2021-03-03</td>\n",
       "      <td>9376</td>\n",
       "      <td>after</td>\n",
       "    </tr>\n",
       "    <tr>\n",
       "      <th>7417</th>\n",
       "      <td>19161801</td>\n",
       "      <td>IOS</td>\n",
       "      <td>2021-02-26</td>\n",
       "      <td>2021-03-04</td>\n",
       "      <td>1840</td>\n",
       "      <td>after</td>\n",
       "    </tr>\n",
       "    <tr>\n",
       "      <th>45090</th>\n",
       "      <td>19161801</td>\n",
       "      <td>IOS</td>\n",
       "      <td>2021-02-26</td>\n",
       "      <td>2021-03-05</td>\n",
       "      <td>11527</td>\n",
       "      <td>after</td>\n",
       "    </tr>\n",
       "    <tr>\n",
       "      <th>50482</th>\n",
       "      <td>19161801</td>\n",
       "      <td>IOS</td>\n",
       "      <td>2021-02-26</td>\n",
       "      <td>2021-03-06</td>\n",
       "      <td>9615</td>\n",
       "      <td>after</td>\n",
       "    </tr>\n",
       "    <tr>\n",
       "      <th>56401</th>\n",
       "      <td>19161801</td>\n",
       "      <td>IOS</td>\n",
       "      <td>2021-02-26</td>\n",
       "      <td>2021-03-07</td>\n",
       "      <td>6784</td>\n",
       "      <td>after</td>\n",
       "    </tr>\n",
       "    <tr>\n",
       "      <th>50712</th>\n",
       "      <td>19161801</td>\n",
       "      <td>IOS</td>\n",
       "      <td>2021-02-26</td>\n",
       "      <td>2021-03-08</td>\n",
       "      <td>14236</td>\n",
       "      <td>after</td>\n",
       "    </tr>\n",
       "    <tr>\n",
       "      <th>7524</th>\n",
       "      <td>19161801</td>\n",
       "      <td>IOS</td>\n",
       "      <td>2021-02-26</td>\n",
       "      <td>2021-03-09</td>\n",
       "      <td>1393</td>\n",
       "      <td>after</td>\n",
       "    </tr>\n",
       "    <tr>\n",
       "      <th>48136</th>\n",
       "      <td>19161801</td>\n",
       "      <td>IOS</td>\n",
       "      <td>2021-02-26</td>\n",
       "      <td>2021-03-10</td>\n",
       "      <td>3715</td>\n",
       "      <td>after</td>\n",
       "    </tr>\n",
       "    <tr>\n",
       "      <th>4151</th>\n",
       "      <td>19161801</td>\n",
       "      <td>IOS</td>\n",
       "      <td>2021-02-26</td>\n",
       "      <td>2021-03-11</td>\n",
       "      <td>5860</td>\n",
       "      <td>after</td>\n",
       "    </tr>\n",
       "    <tr>\n",
       "      <th>22659</th>\n",
       "      <td>19761882</td>\n",
       "      <td>ANDROID</td>\n",
       "      <td>2021-01-15</td>\n",
       "      <td>2021-01-15</td>\n",
       "      <td>659</td>\n",
       "      <td>after</td>\n",
       "    </tr>\n",
       "    <tr>\n",
       "      <th>48638</th>\n",
       "      <td>19761882</td>\n",
       "      <td>ANDROID</td>\n",
       "      <td>2021-01-15</td>\n",
       "      <td>2021-01-16</td>\n",
       "      <td>3282</td>\n",
       "      <td>after</td>\n",
       "    </tr>\n",
       "    <tr>\n",
       "      <th>42063</th>\n",
       "      <td>20395818</td>\n",
       "      <td>IOS</td>\n",
       "      <td>2021-01-24</td>\n",
       "      <td>2021-01-10</td>\n",
       "      <td>239</td>\n",
       "      <td>before</td>\n",
       "    </tr>\n",
       "    <tr>\n",
       "      <th>48953</th>\n",
       "      <td>20395818</td>\n",
       "      <td>IOS</td>\n",
       "      <td>2021-01-24</td>\n",
       "      <td>2021-01-11</td>\n",
       "      <td>1357</td>\n",
       "      <td>before</td>\n",
       "    </tr>\n",
       "    <tr>\n",
       "      <th>23420</th>\n",
       "      <td>20395818</td>\n",
       "      <td>IOS</td>\n",
       "      <td>2021-01-24</td>\n",
       "      <td>2021-01-12</td>\n",
       "      <td>813</td>\n",
       "      <td>before</td>\n",
       "    </tr>\n",
       "    <tr>\n",
       "      <th>77009</th>\n",
       "      <td>20395818</td>\n",
       "      <td>IOS</td>\n",
       "      <td>2021-01-24</td>\n",
       "      <td>2021-01-13</td>\n",
       "      <td>218</td>\n",
       "      <td>before</td>\n",
       "    </tr>\n",
       "    <tr>\n",
       "      <th>66078</th>\n",
       "      <td>20395818</td>\n",
       "      <td>IOS</td>\n",
       "      <td>2021-01-24</td>\n",
       "      <td>2021-01-14</td>\n",
       "      <td>449</td>\n",
       "      <td>before</td>\n",
       "    </tr>\n",
       "    <tr>\n",
       "      <th>78772</th>\n",
       "      <td>20395818</td>\n",
       "      <td>IOS</td>\n",
       "      <td>2021-01-24</td>\n",
       "      <td>2021-01-15</td>\n",
       "      <td>229</td>\n",
       "      <td>before</td>\n",
       "    </tr>\n",
       "  </tbody>\n",
       "</table>\n",
       "</div>"
      ],
      "text/plain": [
       "        user_id platform   reg_date steps_date  steps  period\n",
       "26899  16661153      IOS 2021-03-25 2021-03-11   4732  before\n",
       "30417  16661153      IOS 2021-03-25 2021-03-12  12022  before\n",
       "4660   16661153      IOS 2021-03-25 2021-03-13   3798  before\n",
       "23346  16661153      IOS 2021-03-25 2021-03-14   2745  before\n",
       "27835  16661153      IOS 2021-03-25 2021-03-15   4536  before\n",
       "16499  16661153      IOS 2021-03-25 2021-03-16   5039  before\n",
       "24057  16661153      IOS 2021-03-25 2021-03-17   6144  before\n",
       "29384  16661153      IOS 2021-03-25 2021-03-18   3318  before\n",
       "8228   16661153      IOS 2021-03-25 2021-03-19   8218  before\n",
       "52457  16661153      IOS 2021-03-25 2021-03-20   1724  before\n",
       "11645  16661153      IOS 2021-03-25 2021-03-21   4740  before\n",
       "57141  16661153      IOS 2021-03-25 2021-03-22   1783  before\n",
       "41735  16661153      IOS 2021-03-25 2021-03-23   7735  before\n",
       "23986  16661153      IOS 2021-03-25 2021-03-24   7585  before\n",
       "42199  19161801      IOS 2021-02-26 2021-02-12  10790  before\n",
       "22792  19161801      IOS 2021-02-26 2021-02-13   3513  before\n",
       "21983  19161801      IOS 2021-02-26 2021-02-14   1005  before\n",
       "2361   19161801      IOS 2021-02-26 2021-02-15   2369  before\n",
       "46049  19161801      IOS 2021-02-26 2021-02-16   1834  before\n",
       "27665  19161801      IOS 2021-02-26 2021-02-17   2150  before\n",
       "5824   19161801      IOS 2021-02-26 2021-02-18   2378  before\n",
       "75358  19161801      IOS 2021-02-26 2021-02-19   2942  before\n",
       "66980  19161801      IOS 2021-02-26 2021-02-20   2151  before\n",
       "64380  19161801      IOS 2021-02-26 2021-02-21   1343  before\n",
       "38847  19161801      IOS 2021-02-26 2021-02-22   2393  before\n",
       "62595  19161801      IOS 2021-02-26 2021-02-23   2727  before\n",
       "24383  19161801      IOS 2021-02-26 2021-02-24   5718  before\n",
       "66979  19161801      IOS 2021-02-26 2021-02-25   1381  before\n",
       "11512  19161801      IOS 2021-02-26 2021-02-26   6939   after\n",
       "53104  19161801      IOS 2021-02-26 2021-02-27   2807   after\n",
       "80165  19161801      IOS 2021-02-26 2021-02-28  12356   after\n",
       "35352  19161801      IOS 2021-02-26 2021-03-01   1854   after\n",
       "37047  19161801      IOS 2021-02-26 2021-03-02   9508   after\n",
       "4091   19161801      IOS 2021-02-26 2021-03-03   9376   after\n",
       "7417   19161801      IOS 2021-02-26 2021-03-04   1840   after\n",
       "45090  19161801      IOS 2021-02-26 2021-03-05  11527   after\n",
       "50482  19161801      IOS 2021-02-26 2021-03-06   9615   after\n",
       "56401  19161801      IOS 2021-02-26 2021-03-07   6784   after\n",
       "50712  19161801      IOS 2021-02-26 2021-03-08  14236   after\n",
       "7524   19161801      IOS 2021-02-26 2021-03-09   1393   after\n",
       "48136  19161801      IOS 2021-02-26 2021-03-10   3715   after\n",
       "4151   19161801      IOS 2021-02-26 2021-03-11   5860   after\n",
       "22659  19761882  ANDROID 2021-01-15 2021-01-15    659   after\n",
       "48638  19761882  ANDROID 2021-01-15 2021-01-16   3282   after\n",
       "42063  20395818      IOS 2021-01-24 2021-01-10    239  before\n",
       "48953  20395818      IOS 2021-01-24 2021-01-11   1357  before\n",
       "23420  20395818      IOS 2021-01-24 2021-01-12    813  before\n",
       "77009  20395818      IOS 2021-01-24 2021-01-13    218  before\n",
       "66078  20395818      IOS 2021-01-24 2021-01-14    449  before\n",
       "78772  20395818      IOS 2021-01-24 2021-01-15    229  before"
      ]
     },
     "execution_count": 12,
     "metadata": {},
     "output_type": "execute_result"
    }
   ],
   "source": [
    "# Добавим новый столбец period, чтобы определять период до и после регистрации \n",
    "\n",
    "df['period'] = np.where(df['steps_date']<df['reg_date'], 'before', 'after')\n",
    "df[['reg_date','steps_date']] = df[['reg_date','steps_date']].apply(pd.to_datetime) \n",
    "df = df.sort_values(['user_id', 'steps_date'])\n",
    "df.head(50)"
   ]
  },
  {
   "cell_type": "code",
   "execution_count": 13,
   "id": "f5c2271e",
   "metadata": {
    "scrolled": true
   },
   "outputs": [
    {
     "data": {
      "text/html": [
       "<div>\n",
       "<style scoped>\n",
       "    .dataframe tbody tr th:only-of-type {\n",
       "        vertical-align: middle;\n",
       "    }\n",
       "\n",
       "    .dataframe tbody tr th {\n",
       "        vertical-align: top;\n",
       "    }\n",
       "\n",
       "    .dataframe thead th {\n",
       "        text-align: right;\n",
       "    }\n",
       "</style>\n",
       "<table border=\"1\" class=\"dataframe\">\n",
       "  <thead>\n",
       "    <tr style=\"text-align: right;\">\n",
       "      <th></th>\n",
       "      <th>user_id</th>\n",
       "      <th>platform</th>\n",
       "      <th>reg_date</th>\n",
       "      <th>steps_date</th>\n",
       "      <th>steps</th>\n",
       "      <th>period</th>\n",
       "      <th>cnt_period</th>\n",
       "    </tr>\n",
       "  </thead>\n",
       "  <tbody>\n",
       "    <tr>\n",
       "      <th>42199</th>\n",
       "      <td>19161801</td>\n",
       "      <td>IOS</td>\n",
       "      <td>2021-02-26</td>\n",
       "      <td>2021-02-12</td>\n",
       "      <td>10790</td>\n",
       "      <td>before</td>\n",
       "      <td>2</td>\n",
       "    </tr>\n",
       "    <tr>\n",
       "      <th>22792</th>\n",
       "      <td>19161801</td>\n",
       "      <td>IOS</td>\n",
       "      <td>2021-02-26</td>\n",
       "      <td>2021-02-13</td>\n",
       "      <td>3513</td>\n",
       "      <td>before</td>\n",
       "      <td>2</td>\n",
       "    </tr>\n",
       "    <tr>\n",
       "      <th>21983</th>\n",
       "      <td>19161801</td>\n",
       "      <td>IOS</td>\n",
       "      <td>2021-02-26</td>\n",
       "      <td>2021-02-14</td>\n",
       "      <td>1005</td>\n",
       "      <td>before</td>\n",
       "      <td>2</td>\n",
       "    </tr>\n",
       "    <tr>\n",
       "      <th>2361</th>\n",
       "      <td>19161801</td>\n",
       "      <td>IOS</td>\n",
       "      <td>2021-02-26</td>\n",
       "      <td>2021-02-15</td>\n",
       "      <td>2369</td>\n",
       "      <td>before</td>\n",
       "      <td>2</td>\n",
       "    </tr>\n",
       "    <tr>\n",
       "      <th>46049</th>\n",
       "      <td>19161801</td>\n",
       "      <td>IOS</td>\n",
       "      <td>2021-02-26</td>\n",
       "      <td>2021-02-16</td>\n",
       "      <td>1834</td>\n",
       "      <td>before</td>\n",
       "      <td>2</td>\n",
       "    </tr>\n",
       "  </tbody>\n",
       "</table>\n",
       "</div>"
      ],
      "text/plain": [
       "        user_id platform   reg_date steps_date  steps  period  cnt_period\n",
       "42199  19161801      IOS 2021-02-26 2021-02-12  10790  before           2\n",
       "22792  19161801      IOS 2021-02-26 2021-02-13   3513  before           2\n",
       "21983  19161801      IOS 2021-02-26 2021-02-14   1005  before           2\n",
       "2361   19161801      IOS 2021-02-26 2021-02-15   2369  before           2\n",
       "46049  19161801      IOS 2021-02-26 2021-02-16   1834  before           2"
      ]
     },
     "execution_count": 13,
     "metadata": {},
     "output_type": "execute_result"
    }
   ],
   "source": [
    "# Отберем юзеров, которые имеют активность до и после регистрации, используя новый столбец cnt_period\n",
    "\n",
    "df['cnt_period'] = df.groupby('user_id')['period'].transform('nunique')\n",
    "df = df[df['cnt_period']==2]\n",
    "df.head()"
   ]
  },
  {
   "cell_type": "code",
   "execution_count": 14,
   "id": "3ca9c2f4",
   "metadata": {},
   "outputs": [
    {
     "data": {
      "text/html": [
       "<div>\n",
       "<style scoped>\n",
       "    .dataframe tbody tr th:only-of-type {\n",
       "        vertical-align: middle;\n",
       "    }\n",
       "\n",
       "    .dataframe tbody tr th {\n",
       "        vertical-align: top;\n",
       "    }\n",
       "\n",
       "    .dataframe thead th {\n",
       "        text-align: right;\n",
       "    }\n",
       "</style>\n",
       "<table border=\"1\" class=\"dataframe\">\n",
       "  <thead>\n",
       "    <tr style=\"text-align: right;\">\n",
       "      <th></th>\n",
       "      <th>user_id</th>\n",
       "      <th>platform</th>\n",
       "      <th>reg_date</th>\n",
       "      <th>steps_date</th>\n",
       "      <th>steps</th>\n",
       "      <th>period</th>\n",
       "      <th>cnt_period</th>\n",
       "      <th>weekday</th>\n",
       "    </tr>\n",
       "  </thead>\n",
       "  <tbody>\n",
       "    <tr>\n",
       "      <th>42199</th>\n",
       "      <td>19161801</td>\n",
       "      <td>IOS</td>\n",
       "      <td>2021-02-26</td>\n",
       "      <td>2021-02-12</td>\n",
       "      <td>10790</td>\n",
       "      <td>before</td>\n",
       "      <td>2</td>\n",
       "      <td>1</td>\n",
       "    </tr>\n",
       "    <tr>\n",
       "      <th>22792</th>\n",
       "      <td>19161801</td>\n",
       "      <td>IOS</td>\n",
       "      <td>2021-02-26</td>\n",
       "      <td>2021-02-13</td>\n",
       "      <td>3513</td>\n",
       "      <td>before</td>\n",
       "      <td>2</td>\n",
       "      <td>0</td>\n",
       "    </tr>\n",
       "    <tr>\n",
       "      <th>21983</th>\n",
       "      <td>19161801</td>\n",
       "      <td>IOS</td>\n",
       "      <td>2021-02-26</td>\n",
       "      <td>2021-02-14</td>\n",
       "      <td>1005</td>\n",
       "      <td>before</td>\n",
       "      <td>2</td>\n",
       "      <td>0</td>\n",
       "    </tr>\n",
       "    <tr>\n",
       "      <th>2361</th>\n",
       "      <td>19161801</td>\n",
       "      <td>IOS</td>\n",
       "      <td>2021-02-26</td>\n",
       "      <td>2021-02-15</td>\n",
       "      <td>2369</td>\n",
       "      <td>before</td>\n",
       "      <td>2</td>\n",
       "      <td>1</td>\n",
       "    </tr>\n",
       "    <tr>\n",
       "      <th>46049</th>\n",
       "      <td>19161801</td>\n",
       "      <td>IOS</td>\n",
       "      <td>2021-02-26</td>\n",
       "      <td>2021-02-16</td>\n",
       "      <td>1834</td>\n",
       "      <td>before</td>\n",
       "      <td>2</td>\n",
       "      <td>1</td>\n",
       "    </tr>\n",
       "  </tbody>\n",
       "</table>\n",
       "</div>"
      ],
      "text/plain": [
       "        user_id platform   reg_date steps_date  steps  period  cnt_period  \\\n",
       "42199  19161801      IOS 2021-02-26 2021-02-12  10790  before           2   \n",
       "22792  19161801      IOS 2021-02-26 2021-02-13   3513  before           2   \n",
       "21983  19161801      IOS 2021-02-26 2021-02-14   1005  before           2   \n",
       "2361   19161801      IOS 2021-02-26 2021-02-15   2369  before           2   \n",
       "46049  19161801      IOS 2021-02-26 2021-02-16   1834  before           2   \n",
       "\n",
       "       weekday  \n",
       "42199        1  \n",
       "22792        0  \n",
       "21983        0  \n",
       "2361         1  \n",
       "46049        1  "
      ]
     },
     "execution_count": 14,
     "metadata": {},
     "output_type": "execute_result"
    }
   ],
   "source": [
    "# Добавим столбец weekday для определения будних и выходных дней\n",
    "\n",
    "df['weekday'] = np.where((df['steps_date']).dt.dayofweek < 5,1,0)\n",
    "df.head()"
   ]
  },
  {
   "cell_type": "code",
   "execution_count": 15,
   "id": "9dfb9f29",
   "metadata": {},
   "outputs": [
    {
     "name": "stdout",
     "output_type": "stream",
     "text": [
      "<class 'pandas.core.frame.DataFrame'>\n",
      "Int64Index: 44104 entries, 42199 to 63520\n",
      "Data columns (total 8 columns):\n",
      " #   Column      Non-Null Count  Dtype         \n",
      "---  ------      --------------  -----         \n",
      " 0   user_id     44104 non-null  int64         \n",
      " 1   platform    44076 non-null  object        \n",
      " 2   reg_date    44104 non-null  datetime64[ns]\n",
      " 3   steps_date  44104 non-null  datetime64[ns]\n",
      " 4   steps       44104 non-null  int64         \n",
      " 5   period      44104 non-null  object        \n",
      " 6   cnt_period  44104 non-null  int64         \n",
      " 7   weekday     44104 non-null  int64         \n",
      "dtypes: datetime64[ns](2), int64(4), object(2)\n",
      "memory usage: 3.0+ MB\n"
     ]
    }
   ],
   "source": [
    "df.info()"
   ]
  },
  {
   "cell_type": "code",
   "execution_count": 16,
   "id": "390f56b6",
   "metadata": {},
   "outputs": [
    {
     "data": {
      "text/plain": [
       "1857"
      ]
     },
     "execution_count": 16,
     "metadata": {},
     "output_type": "execute_result"
    }
   ],
   "source": [
    "# Кол-во уникльных юзеров, которые были активны до и после регистрации. Было 3482, стало 1857 (-47%), кол-во записей было 62754, стало 44104 (-30%)  \n",
    "\n",
    "df['user_id'].nunique()"
   ]
  },
  {
   "cell_type": "code",
   "execution_count": 17,
   "id": "2cf38b5d",
   "metadata": {},
   "outputs": [
    {
     "data": {
      "text/plain": [
       "<Axes: xlabel='steps_date'>"
      ]
     },
     "execution_count": 17,
     "metadata": {},
     "output_type": "execute_result"
    },
    {
     "data": {
      "image/png": "[encoded data removed]",
      "text/plain": [
       "<Figure size 640x480 with 1 Axes>"
      ]
     },
     "metadata": {},
     "output_type": "display_data"
    }
   ],
   "source": [
    "# Видим, что итого среднее кол-во шагов на юзера в день растет\n",
    "\n",
    "df_line = df.groupby(['steps_date'])['steps'].mean().reset_index()\n",
    "df_line.plot('steps_date' , 'steps' )"
   ]
  },
  {
   "cell_type": "code",
   "execution_count": 18,
   "id": "9fe49218",
   "metadata": {},
   "outputs": [
    {
     "data": {
      "text/plain": [
       "<Axes: xlabel='steps_date'>"
      ]
     },
     "execution_count": 18,
     "metadata": {},
     "output_type": "execute_result"
    },
    {
     "data": {
      "image/png": "[encoded data removed]",
      "text/plain": [
       "<Figure size 640x480 with 1 Axes>"
      ]
     },
     "metadata": {},
     "output_type": "display_data"
    }
   ],
   "source": [
    "# То же самое видим для группы до регистрации. Возможно рост обусловлен сезонностью\n",
    "\n",
    "df_line_before = df[df['period']=='before'].groupby(['steps_date'])['steps'].mean().reset_index()\n",
    "df_line_before.plot('steps_date' , 'steps')"
   ]
  },
  {
   "cell_type": "code",
   "execution_count": 19,
   "id": "e100ccd2",
   "metadata": {},
   "outputs": [
    {
     "data": {
      "text/plain": [
       "<Axes: xlabel='steps_date'>"
      ]
     },
     "execution_count": 19,
     "metadata": {},
     "output_type": "execute_result"
    },
    {
     "data": {
      "image/png": "[encoded data removed]",
      "text/plain": [
       "<Figure size 640x480 with 1 Axes>"
      ]
     },
     "metadata": {},
     "output_type": "display_data"
    }
   ],
   "source": [
    "# То же самое видим для группы после регистрации\n",
    "\n",
    "df_line_after = df[df['period']=='after'].groupby(['steps_date'])['steps'].mean().reset_index()\n",
    "df_line_after.plot('steps_date' , 'steps')"
   ]
  },
  {
   "cell_type": "code",
   "execution_count": 20,
   "id": "61936f6f",
   "metadata": {
    "scrolled": true
   },
   "outputs": [
    {
     "data": {
      "text/html": [
       "<div>\n",
       "<style scoped>\n",
       "    .dataframe tbody tr th:only-of-type {\n",
       "        vertical-align: middle;\n",
       "    }\n",
       "\n",
       "    .dataframe tbody tr th {\n",
       "        vertical-align: top;\n",
       "    }\n",
       "\n",
       "    .dataframe thead th {\n",
       "        text-align: right;\n",
       "    }\n",
       "</style>\n",
       "<table border=\"1\" class=\"dataframe\">\n",
       "  <thead>\n",
       "    <tr style=\"text-align: right;\">\n",
       "      <th></th>\n",
       "      <th>user_id</th>\n",
       "      <th>period</th>\n",
       "      <th>platform</th>\n",
       "      <th>step_sum</th>\n",
       "      <th>active_days</th>\n",
       "      <th>step_sum_1_day</th>\n",
       "    </tr>\n",
       "  </thead>\n",
       "  <tbody>\n",
       "    <tr>\n",
       "      <th>0</th>\n",
       "      <td>19161801</td>\n",
       "      <td>after</td>\n",
       "      <td>IOS</td>\n",
       "      <td>97810</td>\n",
       "      <td>14</td>\n",
       "      <td>6986.428571</td>\n",
       "    </tr>\n",
       "    <tr>\n",
       "      <th>1</th>\n",
       "      <td>19161801</td>\n",
       "      <td>before</td>\n",
       "      <td>IOS</td>\n",
       "      <td>42694</td>\n",
       "      <td>14</td>\n",
       "      <td>3049.571429</td>\n",
       "    </tr>\n",
       "    <tr>\n",
       "      <th>2</th>\n",
       "      <td>20395818</td>\n",
       "      <td>after</td>\n",
       "      <td>IOS</td>\n",
       "      <td>2283</td>\n",
       "      <td>5</td>\n",
       "      <td>456.600000</td>\n",
       "    </tr>\n",
       "    <tr>\n",
       "      <th>3</th>\n",
       "      <td>20395818</td>\n",
       "      <td>before</td>\n",
       "      <td>IOS</td>\n",
       "      <td>14363</td>\n",
       "      <td>14</td>\n",
       "      <td>1025.928571</td>\n",
       "    </tr>\n",
       "    <tr>\n",
       "      <th>4</th>\n",
       "      <td>39957739</td>\n",
       "      <td>after</td>\n",
       "      <td>IOS</td>\n",
       "      <td>12792</td>\n",
       "      <td>12</td>\n",
       "      <td>1066.000000</td>\n",
       "    </tr>\n",
       "  </tbody>\n",
       "</table>\n",
       "</div>"
      ],
      "text/plain": [
       "    user_id  period platform  step_sum  active_days  step_sum_1_day\n",
       "0  19161801   after      IOS     97810           14     6986.428571\n",
       "1  19161801  before      IOS     42694           14     3049.571429\n",
       "2  20395818   after      IOS      2283            5      456.600000\n",
       "3  20395818  before      IOS     14363           14     1025.928571\n",
       "4  39957739   after      IOS     12792           12     1066.000000"
      ]
     },
     "execution_count": 20,
     "metadata": {},
     "output_type": "execute_result"
    }
   ],
   "source": [
    "#  Рассчитаем для каждого юзера: кол-во шагов в день в разбивке периодов\n",
    "\n",
    "df_group = df.groupby(['user_id', 'period', 'platform']).agg(step_sum=('steps','sum'), active_days= ('user_id','count')).reset_index()\n",
    "df_group['step_sum_1_day'] = df_group['step_sum']/df_group['active_days']\n",
    "df_group.head()"
   ]
  },
  {
   "cell_type": "markdown",
   "id": "c9be6def",
   "metadata": {},
   "source": [
    "# 2. Результаты"
   ]
  },
  {
   "cell_type": "markdown",
   "id": "d41dd178",
   "metadata": {},
   "source": [
    "# 2.1. Итого"
   ]
  },
  {
   "cell_type": "code",
   "execution_count": 21,
   "id": "d37c9ad3",
   "metadata": {
    "scrolled": false
   },
   "outputs": [
    {
     "data": {
      "text/html": [
       "<div>\n",
       "<style scoped>\n",
       "    .dataframe tbody tr th:only-of-type {\n",
       "        vertical-align: middle;\n",
       "    }\n",
       "\n",
       "    .dataframe tbody tr th {\n",
       "        vertical-align: top;\n",
       "    }\n",
       "\n",
       "    .dataframe thead th {\n",
       "        text-align: right;\n",
       "    }\n",
       "</style>\n",
       "<table border=\"1\" class=\"dataframe\">\n",
       "  <thead>\n",
       "    <tr style=\"text-align: right;\">\n",
       "      <th></th>\n",
       "      <th>period</th>\n",
       "      <th>Uniq</th>\n",
       "      <th>Step_sum</th>\n",
       "      <th>Steps_mean_per_user_per_day</th>\n",
       "      <th>Steps_median_per_user_per_day</th>\n",
       "      <th>avg_active_days</th>\n",
       "    </tr>\n",
       "  </thead>\n",
       "  <tbody>\n",
       "    <tr>\n",
       "      <th>0</th>\n",
       "      <td>after</td>\n",
       "      <td>1856</td>\n",
       "      <td>108831004</td>\n",
       "      <td>5268</td>\n",
       "      <td>4428</td>\n",
       "      <td>10</td>\n",
       "    </tr>\n",
       "    <tr>\n",
       "      <th>1</th>\n",
       "      <td>before</td>\n",
       "      <td>1856</td>\n",
       "      <td>120006354</td>\n",
       "      <td>4839</td>\n",
       "      <td>4061</td>\n",
       "      <td>12</td>\n",
       "    </tr>\n",
       "  </tbody>\n",
       "</table>\n",
       "</div>"
      ],
      "text/plain": [
       "   period  Uniq   Step_sum  Steps_mean_per_user_per_day  \\\n",
       "0   after  1856  108831004                         5268   \n",
       "1  before  1856  120006354                         4839   \n",
       "\n",
       "   Steps_median_per_user_per_day  avg_active_days  \n",
       "0                           4428               10  \n",
       "1                           4061               12  "
      ]
     },
     "execution_count": 21,
     "metadata": {},
     "output_type": "execute_result"
    }
   ],
   "source": [
    "# Сравнение кол-ва шагов до и после регистрации\n",
    "# Будем сравнить сумму шагов, ср кол-во шагов на юзера в день, медиану кол-во шагов на юзера в день (в случае наличия выбросов) в периодах\n",
    "\n",
    "df_overall = df_group.groupby('period').agg(Uniq=('user_id','nunique'), Step_sum=('step_sum','sum'), \n",
    "                               Steps_mean_per_user_per_day=('step_sum_1_day','mean'), \n",
    "                               Steps_median_per_user_per_day=('step_sum_1_day','median'),\n",
    "                               avg_active_days=('active_days','mean')).reset_index()\n",
    "\n",
    "df_overall['Steps_mean_per_user_per_day'] = df_overall['Steps_mean_per_user_per_day'].astype(int)\n",
    "df_overall['Steps_median_per_user_per_day'] = df_overall['Steps_median_per_user_per_day'].astype(int)\n",
    "df_overall['avg_active_days'] = df_overall['avg_active_days'].astype(int)\n",
    "df_overall"
   ]
  },
  {
   "cell_type": "code",
   "execution_count": 22,
   "id": "cf054413",
   "metadata": {
    "scrolled": true
   },
   "outputs": [
    {
     "data": {
      "text/plain": [
       "(429.0, 321.0, 538.0)"
      ]
     },
     "execution_count": 22,
     "metadata": {},
     "output_type": "execute_result"
    }
   ],
   "source": [
    "# Равенство средних в случае зависимых (парных) выборок: \n",
    "# Построим 95%-доверительный интервал для разности средних\n",
    "# Так как доверительный интревал не накрывает ноль, то гипотеза о равенстве разности средних нулю отвергается.\n",
    "\n",
    "df_overall_bef = df_group[df_group['period']=='before']\n",
    "df_overall_aft = df_group[df_group['period']=='after']\n",
    "df_overall_merge = pd.merge(df_overall_bef, df_overall_aft, how=\"left\", on=[\"user_id\"])\n",
    "df_overall_merge['step_sum_diff'] = df_overall_merge['step_sum_1_day_y'] - df_overall_merge['step_sum_1_day_x']\n",
    "df_overall_merge = df_overall_merge[['user_id', 'step_sum_diff']]\n",
    "\n",
    "def mean_confidence_interval(data, confidence=0.95):\n",
    "    a = 1.0 * np.array(data)\n",
    "    n = len(a)\n",
    "    m, se = np.mean(a), scipy.stats.sem(a)\n",
    "    h = se * scipy.stats.t.ppf((1 + confidence) / 2., n-1)\n",
    "    return round(m, 0), round(m-h,0), round(m+h,0)\n",
    "\n",
    "mean_confidence_interval(df_overall_merge['step_sum_diff'])"
   ]
  },
  {
   "cell_type": "code",
   "execution_count": 23,
   "id": "36bcfe79",
   "metadata": {
    "scrolled": false
   },
   "outputs": [
    {
     "data": {
      "image/png": "[encoded data removed]",
      "text/plain": [
       "<Figure size 640x480 with 1 Axes>"
      ]
     },
     "metadata": {},
     "output_type": "display_data"
    }
   ],
   "source": [
    "plt.bar(df_overall['period'], df_overall['Step_sum'])\n",
    "plt.title(\"Sum of steps in 2 periods\")\n",
    "plt.show()"
   ]
  },
  {
   "cell_type": "code",
   "execution_count": 24,
   "id": "20d8d40c",
   "metadata": {},
   "outputs": [
    {
     "data": {
      "image/png": "[encoded data removed]",
      "text/plain": [
       "<Figure size 640x480 with 1 Axes>"
      ]
     },
     "metadata": {},
     "output_type": "display_data"
    }
   ],
   "source": [
    "plt.bar(df_overall['period'], df_overall['Steps_mean_per_user_per_day'])\n",
    "plt.title(\"Avg count of steps per user per day in 2 periods\")\n",
    "plt.show()"
   ]
  },
  {
   "cell_type": "code",
   "execution_count": 25,
   "id": "3baa320c",
   "metadata": {
    "scrolled": false
   },
   "outputs": [
    {
     "data": {
      "image/png": "[encoded data removed]",
      "text/plain": [
       "<Figure size 640x480 with 1 Axes>"
      ]
     },
     "metadata": {},
     "output_type": "display_data"
    }
   ],
   "source": [
    "plt.bar(df_overall['period'], df_overall['Steps_median_per_user_per_day'])\n",
    "plt.title(\"Median count of steps per user per day in 2 periods\")\n",
    "plt.show()"
   ]
  },
  {
   "cell_type": "markdown",
   "id": "36055bb0",
   "metadata": {},
   "source": [
    "# 2.2. В разбивке будни/выходные"
   ]
  },
  {
   "cell_type": "code",
   "execution_count": 26,
   "id": "d14a1e84",
   "metadata": {},
   "outputs": [
    {
     "data": {
      "text/html": [
       "<div>\n",
       "<style scoped>\n",
       "    .dataframe tbody tr th:only-of-type {\n",
       "        vertical-align: middle;\n",
       "    }\n",
       "\n",
       "    .dataframe tbody tr th {\n",
       "        vertical-align: top;\n",
       "    }\n",
       "\n",
       "    .dataframe thead th {\n",
       "        text-align: right;\n",
       "    }\n",
       "</style>\n",
       "<table border=\"1\" class=\"dataframe\">\n",
       "  <thead>\n",
       "    <tr style=\"text-align: right;\">\n",
       "      <th></th>\n",
       "      <th>user_id</th>\n",
       "      <th>period</th>\n",
       "      <th>weekday</th>\n",
       "      <th>step_sum</th>\n",
       "      <th>active_days</th>\n",
       "      <th>step_sum_1_day</th>\n",
       "    </tr>\n",
       "  </thead>\n",
       "  <tbody>\n",
       "    <tr>\n",
       "      <th>0</th>\n",
       "      <td>19161801</td>\n",
       "      <td>after</td>\n",
       "      <td>0</td>\n",
       "      <td>31562</td>\n",
       "      <td>4</td>\n",
       "      <td>7890.5</td>\n",
       "    </tr>\n",
       "    <tr>\n",
       "      <th>1</th>\n",
       "      <td>19161801</td>\n",
       "      <td>after</td>\n",
       "      <td>1</td>\n",
       "      <td>66248</td>\n",
       "      <td>10</td>\n",
       "      <td>6624.8</td>\n",
       "    </tr>\n",
       "    <tr>\n",
       "      <th>2</th>\n",
       "      <td>19161801</td>\n",
       "      <td>before</td>\n",
       "      <td>0</td>\n",
       "      <td>8012</td>\n",
       "      <td>4</td>\n",
       "      <td>2003.0</td>\n",
       "    </tr>\n",
       "    <tr>\n",
       "      <th>3</th>\n",
       "      <td>19161801</td>\n",
       "      <td>before</td>\n",
       "      <td>1</td>\n",
       "      <td>34682</td>\n",
       "      <td>10</td>\n",
       "      <td>3468.2</td>\n",
       "    </tr>\n",
       "    <tr>\n",
       "      <th>4</th>\n",
       "      <td>20395818</td>\n",
       "      <td>after</td>\n",
       "      <td>0</td>\n",
       "      <td>386</td>\n",
       "      <td>1</td>\n",
       "      <td>386.0</td>\n",
       "    </tr>\n",
       "  </tbody>\n",
       "</table>\n",
       "</div>"
      ],
      "text/plain": [
       "    user_id  period  weekday  step_sum  active_days  step_sum_1_day\n",
       "0  19161801   after        0     31562            4          7890.5\n",
       "1  19161801   after        1     66248           10          6624.8\n",
       "2  19161801  before        0      8012            4          2003.0\n",
       "3  19161801  before        1     34682           10          3468.2\n",
       "4  20395818   after        0       386            1           386.0"
      ]
     },
     "execution_count": 26,
     "metadata": {},
     "output_type": "execute_result"
    }
   ],
   "source": [
    "#  Рассчитаем для каждого юзера: кол-во шагов в день в разбивке периодов и будни/выходные\n",
    "\n",
    "df_group_weekday = df.groupby(['user_id', 'period', 'weekday']).agg(step_sum=('steps','sum'), active_days= ('user_id','count')).reset_index()\n",
    "df_group_weekday['step_sum_1_day'] = df_group_weekday['step_sum']/df_group_weekday['active_days']\n",
    "df_group_weekday.head()"
   ]
  },
  {
   "cell_type": "code",
   "execution_count": 27,
   "id": "2f4b47be",
   "metadata": {
    "scrolled": true
   },
   "outputs": [
    {
     "data": {
      "text/html": [
       "<div>\n",
       "<style scoped>\n",
       "    .dataframe tbody tr th:only-of-type {\n",
       "        vertical-align: middle;\n",
       "    }\n",
       "\n",
       "    .dataframe tbody tr th {\n",
       "        vertical-align: top;\n",
       "    }\n",
       "\n",
       "    .dataframe thead th {\n",
       "        text-align: right;\n",
       "    }\n",
       "</style>\n",
       "<table border=\"1\" class=\"dataframe\">\n",
       "  <thead>\n",
       "    <tr style=\"text-align: right;\">\n",
       "      <th></th>\n",
       "      <th>period</th>\n",
       "      <th>weekday</th>\n",
       "      <th>Uniq</th>\n",
       "      <th>Step_sum</th>\n",
       "      <th>Steps_mean_per_user_per_day</th>\n",
       "      <th>Steps_median_per_user_per_day</th>\n",
       "      <th>avg_active_days</th>\n",
       "    </tr>\n",
       "  </thead>\n",
       "  <tbody>\n",
       "    <tr>\n",
       "      <th>0</th>\n",
       "      <td>after</td>\n",
       "      <td>0</td>\n",
       "      <td>1651</td>\n",
       "      <td>27226112</td>\n",
       "      <td>4631</td>\n",
       "      <td>3717</td>\n",
       "      <td>3</td>\n",
       "    </tr>\n",
       "    <tr>\n",
       "      <th>2</th>\n",
       "      <td>before</td>\n",
       "      <td>0</td>\n",
       "      <td>1789</td>\n",
       "      <td>30608627</td>\n",
       "      <td>4409</td>\n",
       "      <td>3453</td>\n",
       "      <td>3</td>\n",
       "    </tr>\n",
       "    <tr>\n",
       "      <th>1</th>\n",
       "      <td>after</td>\n",
       "      <td>1</td>\n",
       "      <td>1808</td>\n",
       "      <td>81664017</td>\n",
       "      <td>5541</td>\n",
       "      <td>4668</td>\n",
       "      <td>8</td>\n",
       "    </tr>\n",
       "    <tr>\n",
       "      <th>3</th>\n",
       "      <td>before</td>\n",
       "      <td>1</td>\n",
       "      <td>1835</td>\n",
       "      <td>89461785</td>\n",
       "      <td>5092</td>\n",
       "      <td>4221</td>\n",
       "      <td>9</td>\n",
       "    </tr>\n",
       "  </tbody>\n",
       "</table>\n",
       "</div>"
      ],
      "text/plain": [
       "   period  weekday  Uniq  Step_sum  Steps_mean_per_user_per_day  \\\n",
       "0   after        0  1651  27226112                         4631   \n",
       "2  before        0  1789  30608627                         4409   \n",
       "1   after        1  1808  81664017                         5541   \n",
       "3  before        1  1835  89461785                         5092   \n",
       "\n",
       "   Steps_median_per_user_per_day  avg_active_days  \n",
       "0                           3717                3  \n",
       "2                           3453                3  \n",
       "1                           4668                8  \n",
       "3                           4221                9  "
      ]
     },
     "execution_count": 27,
     "metadata": {},
     "output_type": "execute_result"
    }
   ],
   "source": [
    "# Сравнение кол-ва шагов до и после регистрации\n",
    "# Будем сравнить сумму шагов, ср кол-во шагов на юзера в день, медиану кол-во шагов на юзера в день (в случае наличия выбросов) в периодах\n",
    "\n",
    "df_weekday_overall = df_group_weekday.groupby(['period', 'weekday']).agg(Uniq=('user_id','nunique'), Step_sum=('step_sum','sum'), \n",
    "                               Steps_mean_per_user_per_day=('step_sum_1_day','mean'), \n",
    "                               Steps_median_per_user_per_day=('step_sum_1_day','median'),\n",
    "                               avg_active_days=('active_days','mean')).reset_index()\n",
    "\n",
    "df_weekday_overall['Steps_mean_per_user_per_day'] = df_weekday_overall['Steps_mean_per_user_per_day'].astype(int)\n",
    "df_weekday_overall['Steps_median_per_user_per_day'] = df_weekday_overall['Steps_median_per_user_per_day'].astype(int)\n",
    "df_weekday_overall['avg_active_days'] = df_weekday_overall['avg_active_days'].astype(int)\n",
    "df_weekday_overall = df_weekday_overall.sort_values(['weekday', 'period'])\n",
    "df_weekday_overall"
   ]
  },
  {
   "cell_type": "markdown",
   "id": "a0fb0618",
   "metadata": {},
   "source": [
    "# 2.3. В разбивке платформ"
   ]
  },
  {
   "cell_type": "code",
   "execution_count": 28,
   "id": "896c5b0d",
   "metadata": {
    "scrolled": true
   },
   "outputs": [
    {
     "data": {
      "text/html": [
       "<div>\n",
       "<style scoped>\n",
       "    .dataframe tbody tr th:only-of-type {\n",
       "        vertical-align: middle;\n",
       "    }\n",
       "\n",
       "    .dataframe tbody tr th {\n",
       "        vertical-align: top;\n",
       "    }\n",
       "\n",
       "    .dataframe thead th {\n",
       "        text-align: right;\n",
       "    }\n",
       "</style>\n",
       "<table border=\"1\" class=\"dataframe\">\n",
       "  <thead>\n",
       "    <tr style=\"text-align: right;\">\n",
       "      <th></th>\n",
       "      <th>platform</th>\n",
       "      <th>period</th>\n",
       "      <th>Uniq</th>\n",
       "      <th>Step_sum</th>\n",
       "      <th>Steps_mean_per_user_per_day</th>\n",
       "      <th>Steps_median_per_user_per_day</th>\n",
       "      <th>avg_active_days</th>\n",
       "    </tr>\n",
       "  </thead>\n",
       "  <tbody>\n",
       "    <tr>\n",
       "      <th>0</th>\n",
       "      <td>ANDROID</td>\n",
       "      <td>after</td>\n",
       "      <td>161</td>\n",
       "      <td>8582504</td>\n",
       "      <td>4614</td>\n",
       "      <td>3578</td>\n",
       "      <td>11</td>\n",
       "    </tr>\n",
       "    <tr>\n",
       "      <th>1</th>\n",
       "      <td>ANDROID</td>\n",
       "      <td>before</td>\n",
       "      <td>161</td>\n",
       "      <td>4481171</td>\n",
       "      <td>2986</td>\n",
       "      <td>1886</td>\n",
       "      <td>6</td>\n",
       "    </tr>\n",
       "    <tr>\n",
       "      <th>2</th>\n",
       "      <td>IOS</td>\n",
       "      <td>after</td>\n",
       "      <td>1695</td>\n",
       "      <td>100248500</td>\n",
       "      <td>5330</td>\n",
       "      <td>4552</td>\n",
       "      <td>10</td>\n",
       "    </tr>\n",
       "    <tr>\n",
       "      <th>3</th>\n",
       "      <td>IOS</td>\n",
       "      <td>before</td>\n",
       "      <td>1695</td>\n",
       "      <td>115525183</td>\n",
       "      <td>5015</td>\n",
       "      <td>4255</td>\n",
       "      <td>13</td>\n",
       "    </tr>\n",
       "  </tbody>\n",
       "</table>\n",
       "</div>"
      ],
      "text/plain": [
       "  platform  period  Uniq   Step_sum  Steps_mean_per_user_per_day  \\\n",
       "0  ANDROID   after   161    8582504                         4614   \n",
       "1  ANDROID  before   161    4481171                         2986   \n",
       "2      IOS   after  1695  100248500                         5330   \n",
       "3      IOS  before  1695  115525183                         5015   \n",
       "\n",
       "   Steps_median_per_user_per_day  avg_active_days  \n",
       "0                           3578               11  \n",
       "1                           1886                6  \n",
       "2                           4552               10  \n",
       "3                           4255               13  "
      ]
     },
     "execution_count": 28,
     "metadata": {},
     "output_type": "execute_result"
    }
   ],
   "source": [
    "# Сравнение кол-ва шагов до и после регистрации в разбивке платформ\n",
    "\n",
    "df_platforms = df_group.groupby(['platform', 'period']).agg(Uniq=('user_id','nunique'), Step_sum=('step_sum','sum'), \n",
    "                                             Steps_mean_per_user_per_day=('step_sum_1_day','mean'), \n",
    "                                             Steps_median_per_user_per_day=('step_sum_1_day','median'),\n",
    "                                             avg_active_days=('active_days','mean')).reset_index()\n",
    "df_platforms['Steps_mean_per_user_per_day'] = df_platforms['Steps_mean_per_user_per_day'].astype(int)\n",
    "df_platforms['Steps_median_per_user_per_day'] = df_platforms['Steps_median_per_user_per_day'].astype(int)\n",
    "df_platforms['avg_active_days'] = df_platforms['avg_active_days'].astype(int)\n",
    "df_platforms"
   ]
  },
  {
   "cell_type": "code",
   "execution_count": 29,
   "id": "954cda30",
   "metadata": {},
   "outputs": [
    {
     "data": {
      "text/plain": [
       "(1628.0, 1123.0, 2133.0)"
      ]
     },
     "execution_count": 29,
     "metadata": {},
     "output_type": "execute_result"
    }
   ],
   "source": [
    "# Равенство средних в случае зависимых (парных) выборок: \n",
    "# Построим 95%-доверительный интервал для разности средних\n",
    "# Так как доверительный интревал не накрывает ноль, то гипотеза о равенстве разности средних нулю отвергается.\n",
    "\n",
    "df_android_bef = df_group[(df_group['period']=='before')&(df_group['platform']=='ANDROID')]\n",
    "df_android_aft = df_group[(df_group['period']=='after')&(df_group['platform']=='ANDROID')]\n",
    "df_overall_merge = pd.merge(df_android_bef, df_android_aft, how=\"left\", on=[\"user_id\"])\n",
    "df_overall_merge['step_sum_diff'] = df_overall_merge['step_sum_1_day_y'] - df_overall_merge['step_sum_1_day_x']\n",
    "df_overall_merge = df_overall_merge[['user_id', 'step_sum_diff']]\n",
    "\n",
    "mean_confidence_interval(df_overall_merge['step_sum_diff'])"
   ]
  },
  {
   "cell_type": "code",
   "execution_count": 30,
   "id": "76c7e97f",
   "metadata": {},
   "outputs": [
    {
     "data": {
      "text/plain": [
       "(315.0, 208.0, 423.0)"
      ]
     },
     "execution_count": 30,
     "metadata": {},
     "output_type": "execute_result"
    }
   ],
   "source": [
    "# Равенство средних в случае зависимых (парных) выборок: \n",
    "# Построим 95%-доверительный интервал для разности средних\n",
    "# Так как доверительный интревал не накрывает ноль, то гипотеза о равенстве разности средних нулю отвергается.\n",
    "\n",
    "df_ios_bef = df_group[(df_group['period']=='before')&(df_group['platform']=='IOS')]\n",
    "df_ios_aft = df_group[(df_group['period']=='after')&(df_group['platform']=='IOS')]\n",
    "df_overall_merge = pd.merge(df_ios_bef, df_ios_aft, how=\"left\", on=[\"user_id\"])\n",
    "df_overall_merge['step_sum_diff'] = df_overall_merge['step_sum_1_day_y'] - df_overall_merge['step_sum_1_day_x']\n",
    "df_overall_merge = df_overall_merge[['user_id', 'step_sum_diff']]\n",
    "\n",
    "mean_confidence_interval(df_overall_merge['step_sum_diff'])"
   ]
  },
  {
   "cell_type": "code",
   "execution_count": 31,
   "id": "bd9ed7a5",
   "metadata": {
    "scrolled": false
   },
   "outputs": [
    {
     "data": {
      "image/png": "[encoded data removed]",
      "text/plain": [
       "<Figure size 640x480 with 1 Axes>"
      ]
     },
     "metadata": {},
     "output_type": "display_data"
    }
   ],
   "source": [
    "df_android = df_platforms[df_platforms['platform']=='ANDROID']\n",
    "plt.bar(df_android['period'], df_android['Step_sum'])\n",
    "plt.title(\"ANDROID. Sum of steps in 2 periods\")\n",
    "plt.show() "
   ]
  },
  {
   "cell_type": "code",
   "execution_count": 32,
   "id": "82467721",
   "metadata": {
    "scrolled": false
   },
   "outputs": [
    {
     "data": {
      "image/png": "[encoded data removed]",
      "text/plain": [
       "<Figure size 640x480 with 1 Axes>"
      ]
     },
     "metadata": {},
     "output_type": "display_data"
    }
   ],
   "source": [
    "plt.bar(df_android['period'], df_android['Steps_mean_per_user_per_day'])\n",
    "plt.title(\"ANDROID. Avg count of steps per user per day\")\n",
    "plt.show()"
   ]
  },
  {
   "cell_type": "code",
   "execution_count": 33,
   "id": "38a658e8",
   "metadata": {},
   "outputs": [
    {
     "data": {
      "image/png": "[encoded data removed]",
      "text/plain": [
       "<Figure size 640x480 with 1 Axes>"
      ]
     },
     "metadata": {},
     "output_type": "display_data"
    }
   ],
   "source": [
    "plt.bar(df_android['period'], df_android['Steps_median_per_user_per_day'])\n",
    "plt.title(\"ANDROID. Median count of steps per user per day\")\n",
    "plt.show()"
   ]
  },
  {
   "cell_type": "code",
   "execution_count": 34,
   "id": "78072f90",
   "metadata": {},
   "outputs": [
    {
     "data": {
      "image/png": "[encoded data removed]",
      "text/plain": [
       "<Figure size 640x480 with 1 Axes>"
      ]
     },
     "metadata": {},
     "output_type": "display_data"
    }
   ],
   "source": [
    "df_ios = df_platforms[df_platforms['platform']=='IOS']\n",
    "plt.bar(df_ios['period'], df_ios['Step_sum'])\n",
    "plt.title(\"IOS. Sum of steps in 2 periods\")\n",
    "plt.show() "
   ]
  },
  {
   "cell_type": "code",
   "execution_count": 35,
   "id": "a158d95d",
   "metadata": {},
   "outputs": [
    {
     "data": {
      "image/png": "[encoded data removed]",
      "text/plain": [
       "<Figure size 640x480 with 1 Axes>"
      ]
     },
     "metadata": {},
     "output_type": "display_data"
    }
   ],
   "source": [
    "plt.bar(df_ios['period'], df_ios['Steps_mean_per_user_per_day'])\n",
    "plt.title(\"IOS. Avg count of steps per user per day\")\n",
    "plt.show()  "
   ]
  },
  {
   "cell_type": "code",
   "execution_count": 36,
   "id": "139753aa",
   "metadata": {},
   "outputs": [
    {
     "data": {
      "image/png": "[encoded data removed]",
      "text/plain": [
       "<Figure size 640x480 with 1 Axes>"
      ]
     },
     "metadata": {},
     "output_type": "display_data"
    }
   ],
   "source": [
    "plt.bar(df_ios['period'], df_ios['Steps_median_per_user_per_day'])\n",
    "plt.title(\"IOS. Median count of steps per user per day\")\n",
    "plt.show()  "
   ]
  },
  {
   "cell_type": "markdown",
   "id": "298694bf",
   "metadata": {},
   "source": [
    "# 3. Выводы"
   ]
  },
  {
   "cell_type": "code",
   "execution_count": 37,
   "id": "9ea31ad4",
   "metadata": {},
   "outputs": [
    {
     "data": {
      "text/plain": [
       "'\\nИтого (1856 юзеров):\\n - Общее кол-во шагов \\xa0уменьшилось с 120006354 до 108831004 (-10%)\\n - Ср кол-во шагов на юзера в день увеличилось с 4839 до 5268 (+9%)\\n - Медиана кол-во шагов на юзера в день увеличилось с 4061 до 4428 (+9%)   \\n - Кол-во активных дней на юзера уменьшилось с 12 до 10 (-20%) \\n\\nВ разбивке платформ:\\nANDROID (161 юзеров)\\n - Общее кол-во шагов увеличилось с 4481171 до 8582504 (+91%)\\n - Ср кол-во шагов на юзера в день увеличилось с 2986 до 4614 (+54%)\\n - Медиана кол-во шагов на юзера в день увеличилось с 1886 до 3578 (+90%)   \\n - Кол-во активных дней на юзера уменьшилось с 6 до 11 (+57%) \\n \\nIOS (1695 юзеров)\\n - Общее кол-во шагов уменьшилось с 115525183 до 100248500 (-13%)\\n - Ср кол-во шагов на юзера в день увеличилось с 5015 до 5330 (+6%)\\n - Медиана кол-во шагов на юзера в день увеличилось с 4255 до 4552 (+7%) \\n - Кол-во активных дней на юзера уменьшилось с 13 до 10 (-23%) \\n \\nТа же картина при разбивке на будни и выходные. + в будни юзеры больше ходят\\n\\nНа первый взгляд выглядит так, будто регистрация отрицательно влияет на кол-во активных дней (было 12, стало 10), \\nиз-за чего падает общее кол-во шагов (было 120006354, стало 108831004), несмотря на рост кол-ва шагов в \\nдень(было 4839, стало 5268). Но нужно учитывать, что присутствует отток. Для составления полной картины нужно взять \\nкогорту новых юзеров и посмотреть их ретеншн. Возможно это в этом причина падения кол-ва активных дней.\\n\\n+не учтена сезонность. Требуются данные за больший период.\\n\\nДополнительно можно посмотреть метрики в разбивке стран, пола, возрастным группам и тд.\\n\\n'"
      ]
     },
     "execution_count": 37,
     "metadata": {},
     "output_type": "execute_result"
    }
   ],
   "source": [
    "\"\"\"\n",
    "Итого (1856 юзеров):\n",
    " - Общее кол-во шагов  уменьшилось с 120006354 до 108831004 (-10%)\n",
    " - Ср кол-во шагов на юзера в день увеличилось с 4839 до 5268 (+9%)\n",
    " - Медиана кол-во шагов на юзера в день увеличилось с 4061 до 4428 (+9%)   \n",
    " - Кол-во активных дней на юзера уменьшилось с 12 до 10 (-20%) \n",
    "\n",
    "В разбивке платформ:\n",
    "ANDROID (161 юзеров)\n",
    " - Общее кол-во шагов увеличилось с 4481171 до 8582504 (+91%)\n",
    " - Ср кол-во шагов на юзера в день увеличилось с 2986 до 4614 (+54%)\n",
    " - Медиана кол-во шагов на юзера в день увеличилось с 1886 до 3578 (+90%)   \n",
    " - Кол-во активных дней на юзера уменьшилось с 6 до 11 (+57%) \n",
    " \n",
    "IOS (1695 юзеров)\n",
    " - Общее кол-во шагов уменьшилось с 115525183 до 100248500 (-13%)\n",
    " - Ср кол-во шагов на юзера в день увеличилось с 5015 до 5330 (+6%)\n",
    " - Медиана кол-во шагов на юзера в день увеличилось с 4255 до 4552 (+7%) \n",
    " - Кол-во активных дней на юзера уменьшилось с 13 до 10 (-23%) \n",
    " \n",
    "Та же картина при разбивке на будни и выходные. + в будни юзеры больше ходят\n",
    "\n",
    "На первый взгляд выглядит так, будто регистрация отрицательно влияет на кол-во активных дней (было 12, стало 10), \n",
    "из-за чего падает общее кол-во шагов (было 120006354, стало 108831004), несмотря на рост кол-ва шагов в \n",
    "день(было 4839, стало 5268). Но нужно учитывать, что присутствует отток. Для составления полной картины нужно взять \n",
    "когорту новых юзеров и посмотреть их ретеншн. Возможно это в этом причина падения кол-ва активных дней.\n",
    "\n",
    "+не учтена сезонность. Требуются данные за больший период.\n",
    "\n",
    "Дополнительно можно посмотреть метрики в разбивке стран, пола, возрастным группам и тд.\n",
    "\n",
    "\"\"\""
   ]
  },
  {
   "cell_type": "code",
   "execution_count": null,
   "id": "56784e3a",
   "metadata": {},
   "outputs": [],
   "source": []
  },
  {
   "cell_type": "code",
   "execution_count": null,
   "id": "07ee4287",
   "metadata": {},
   "outputs": [],
   "source": []
  }
 ],
 "metadata": {
  "kernelspec": {
   "display_name": "Python 3 (ipykernel)",
   "language": "python",
   "name": "python3"
  },
  "language_info": {
   "codemirror_mode": {
    "name": "ipython",
    "version": 3
   },
   "file_extension": ".py",
   "mimetype": "text/x-python",
   "name": "python",
   "nbconvert_exporter": "python",
   "pygments_lexer": "ipython3",
   "version": "3.10.9"
  }
 },
 "nbformat": 4,
 "nbformat_minor": 5
}
